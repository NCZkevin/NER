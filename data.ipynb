{
 "cells": [
  {
   "cell_type": "code",
   "execution_count": 2,
   "metadata": {},
   "outputs": [],
   "source": [
    "import os\n",
    "import pandas as pd"
   ]
  },
  {
   "cell_type": "markdown",
   "metadata": {},
   "source": [
    "# 获取测试数据"
   ]
  },
  {
   "cell_type": "code",
   "execution_count": 4,
   "metadata": {},
   "outputs": [],
   "source": [
    "data_dir = \"data/ruijin_round1_train2_20181022/\""
   ]
  },
  {
   "cell_type": "code",
   "execution_count": 5,
   "metadata": {},
   "outputs": [],
   "source": [
    "texts    = []\n",
    "tags     = []\n",
    "\n",
    "fileidxs = set()\n",
    "for filename in os.listdir(data_dir):\n",
    "    fileidxs.add( filename.split('.')[0] )"
   ]
  },
  {
   "cell_type": "code",
   "execution_count": 7,
   "metadata": {},
   "outputs": [
    {
     "data": {
      "text/plain": [
       "363"
      ]
     },
     "execution_count": 7,
     "metadata": {},
     "output_type": "execute_result"
    }
   ],
   "source": [
    "len(fileidxs)"
   ]
  },
  {
   "cell_type": "code",
   "execution_count": null,
   "metadata": {},
   "outputs": [],
   "source": []
  },
  {
   "cell_type": "code",
   "execution_count": 8,
   "metadata": {},
   "outputs": [],
   "source": [
    "for fileidx in fileidxs:\n",
    "    with open(data_dir+fileidx+'.txt', 'rb') as f:\n",
    "        text = f.read().decode('utf-8')\n",
    "    text_list = [char for char in text]\n",
    "\n",
    "    tag = pd.read_csv(data_dir+fileidx+'.ann', header=None, sep='\\t')\n",
    "    tag_list = ['O' for _ in range( len(text_list) )]\n",
    "\n",
    "    for i in range(tag.shape[0]):\n",
    "        tag_item = tag.iloc[i][1].split(' ')\n",
    "        cls, start, end = tag_item[0], int( tag_item[1] ), int( tag_item[-1] )\n",
    "\n",
    "        tag_list[start] = 'B-'+cls\n",
    "        for j in range(start+1, end):\n",
    "            tag_list[j] = 'I-'+cls\n",
    "    assert(len(text_list) == len(tag_list))\n",
    "    texts.append(text_list)\n",
    "    tags.append(tag_list)"
   ]
  },
  {
   "cell_type": "code",
   "execution_count": 9,
   "metadata": {},
   "outputs": [],
   "source": [
    "# write data into file\n",
    "split_chars = ['。', '！', '？', '，']\n",
    "train_num   = 0\n",
    "dev_num     = 0"
   ]
  },
  {
   "cell_type": "code",
   "execution_count": 10,
   "metadata": {},
   "outputs": [],
   "source": [
    "train_file = 'data/ruijin_train.data'\n",
    "if os.path.exists(train_file):\n",
    "    os.remove(train_file)"
   ]
  },
  {
   "cell_type": "code",
   "execution_count": 11,
   "metadata": {},
   "outputs": [],
   "source": [
    "with open(train_file, 'a') as f:\n",
    "    for k in range(len(texts) - 1):\n",
    "        text_ = texts[k]\n",
    "        tag_  = tags[k]\n",
    "        for p in range(len(text_)):\n",
    "            if text_[p] == '\\n':\n",
    "                f.write('LB'+'\\t'+tag_[p]+'\\n')\n",
    "            elif text_[p] == ' ':\n",
    "                f.write('SPACE'+'\\t'+tag_[p]+'\\n')\n",
    "            elif text_[p] in split_chars:\n",
    "                train_num += 1\n",
    "                f.write(text_[p]+'\\t'+tag_[p]+'\\n\\n')\n",
    "            else:\n",
    "                f.write(text_[p]+'\\t'+tag_[p]+'\\n')"
   ]
  },
  {
   "cell_type": "code",
   "execution_count": 14,
   "metadata": {},
   "outputs": [],
   "source": [
    "dev_file = 'data/ruijin_dev.data'\n",
    "if os.path.exists(dev_file):\n",
    "    os.remove(dev_file)\n",
    "with open(dev_file, 'a') as f:\n",
    "    for k in range(len(texts) - 1, len(texts)):\n",
    "        text_ = texts[k]\n",
    "        tag_  = tags[k]\n",
    "        for p in range(len(text_)):\n",
    "            if text_[p] == '\\n':\n",
    "                f.write('LB'+'\\t'+tag_[p]+'\\n')\n",
    "            elif text_[p] == ' ':\n",
    "                f.write('SPACE'+'\\t'+tag_[p]+'\\n')\n",
    "            elif text_[p] in split_chars:\n",
    "                dev_num += 1\n",
    "                f.write(text_[p]+'\\t'+tag_[p]+'\\n\\n')\n",
    "            else:\n",
    "                f.write(text_[p]+'\\t'+tag_[p]+'\\n')"
   ]
  },
  {
   "cell_type": "code",
   "execution_count": 15,
   "metadata": {},
   "outputs": [
    {
     "name": "stdout",
     "output_type": "stream",
     "text": [
      "train_num:26768, dev_num:136\n"
     ]
    }
   ],
   "source": [
    "print('train_num:{}, dev_num:{}'.format(train_num, dev_num))"
   ]
  },
  {
   "cell_type": "code",
   "execution_count": null,
   "metadata": {},
   "outputs": [],
   "source": []
  }
 ],
 "metadata": {
  "kernelspec": {
   "display_name": "Python 3",
   "language": "python",
   "name": "python3"
  },
  "language_info": {
   "codemirror_mode": {
    "name": "ipython",
    "version": 3
   },
   "file_extension": ".py",
   "mimetype": "text/x-python",
   "name": "python",
   "nbconvert_exporter": "python",
   "pygments_lexer": "ipython3",
   "version": "3.6.5"
  }
 },
 "nbformat": 4,
 "nbformat_minor": 2
}
